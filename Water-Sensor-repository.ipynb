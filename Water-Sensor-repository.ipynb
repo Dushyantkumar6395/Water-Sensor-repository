{
 "cells": [
  {
   "cell_type": "code",
   "execution_count": 5,
   "id": "ea1035ec",
   "metadata": {},
   "outputs": [],
   "source": [
    "import pandas as pd\n",
    "import numpy as np\n",
    "import seaborn as sns\n",
    "import matplotlib.pyplot as plt"
   ]
  },
  {
   "cell_type": "code",
   "execution_count": 6,
   "id": "b7a65cb3",
   "metadata": {},
   "outputs": [],
   "source": [
    "df = pd.read_csv(\"wafer_23012020_041211.csv\")"
   ]
  },
  {
   "cell_type": "code",
   "execution_count": 7,
   "id": "798c4622",
   "metadata": {},
   "outputs": [
    {
     "data": {
      "text/html": [
       "<div>\n",
       "<style scoped>\n",
       "    .dataframe tbody tr th:only-of-type {\n",
       "        vertical-align: middle;\n",
       "    }\n",
       "\n",
       "    .dataframe tbody tr th {\n",
       "        vertical-align: top;\n",
       "    }\n",
       "\n",
       "    .dataframe thead th {\n",
       "        text-align: right;\n",
       "    }\n",
       "</style>\n",
       "<table border=\"1\" class=\"dataframe\">\n",
       "  <thead>\n",
       "    <tr style=\"text-align: right;\">\n",
       "      <th></th>\n",
       "      <th>Unnamed: 0</th>\n",
       "      <th>Sensor-1</th>\n",
       "      <th>Sensor-2</th>\n",
       "      <th>Sensor-3</th>\n",
       "      <th>Sensor-4</th>\n",
       "      <th>Sensor-5</th>\n",
       "      <th>Sensor-6</th>\n",
       "      <th>Sensor-7</th>\n",
       "      <th>Sensor-8</th>\n",
       "      <th>Sensor-9</th>\n",
       "      <th>...</th>\n",
       "      <th>Sensor-582</th>\n",
       "      <th>Sensor-583</th>\n",
       "      <th>Sensor-584</th>\n",
       "      <th>Sensor-585</th>\n",
       "      <th>Sensor-586</th>\n",
       "      <th>Sensor-587</th>\n",
       "      <th>Sensor-588</th>\n",
       "      <th>Sensor-589</th>\n",
       "      <th>Sensor-590</th>\n",
       "      <th>Good/Bad</th>\n",
       "    </tr>\n",
       "  </thead>\n",
       "  <tbody>\n",
       "    <tr>\n",
       "      <th>0</th>\n",
       "      <td>Wafer-801</td>\n",
       "      <td>2968.33</td>\n",
       "      <td>2476.58</td>\n",
       "      <td>2216.7333</td>\n",
       "      <td>1748.0885</td>\n",
       "      <td>1.1127</td>\n",
       "      <td>100.0</td>\n",
       "      <td>97.5822</td>\n",
       "      <td>0.1242</td>\n",
       "      <td>1.5300</td>\n",
       "      <td>...</td>\n",
       "      <td>NaN</td>\n",
       "      <td>0.5004</td>\n",
       "      <td>0.0120</td>\n",
       "      <td>0.0033</td>\n",
       "      <td>2.4069</td>\n",
       "      <td>0.0545</td>\n",
       "      <td>0.0184</td>\n",
       "      <td>0.0055</td>\n",
       "      <td>33.7876</td>\n",
       "      <td>-1</td>\n",
       "    </tr>\n",
       "    <tr>\n",
       "      <th>1</th>\n",
       "      <td>Wafer-802</td>\n",
       "      <td>2961.04</td>\n",
       "      <td>2506.43</td>\n",
       "      <td>2170.0666</td>\n",
       "      <td>1364.5157</td>\n",
       "      <td>1.5447</td>\n",
       "      <td>100.0</td>\n",
       "      <td>96.7700</td>\n",
       "      <td>0.1230</td>\n",
       "      <td>1.3953</td>\n",
       "      <td>...</td>\n",
       "      <td>NaN</td>\n",
       "      <td>0.4994</td>\n",
       "      <td>0.0115</td>\n",
       "      <td>0.0031</td>\n",
       "      <td>2.3020</td>\n",
       "      <td>0.0545</td>\n",
       "      <td>0.0184</td>\n",
       "      <td>0.0055</td>\n",
       "      <td>33.7876</td>\n",
       "      <td>1</td>\n",
       "    </tr>\n",
       "    <tr>\n",
       "      <th>2</th>\n",
       "      <td>Wafer-803</td>\n",
       "      <td>3072.03</td>\n",
       "      <td>2500.68</td>\n",
       "      <td>2205.7445</td>\n",
       "      <td>1363.1048</td>\n",
       "      <td>1.0518</td>\n",
       "      <td>100.0</td>\n",
       "      <td>101.8644</td>\n",
       "      <td>0.1220</td>\n",
       "      <td>1.3896</td>\n",
       "      <td>...</td>\n",
       "      <td>NaN</td>\n",
       "      <td>0.4987</td>\n",
       "      <td>0.0118</td>\n",
       "      <td>0.0036</td>\n",
       "      <td>2.3719</td>\n",
       "      <td>0.0545</td>\n",
       "      <td>0.0184</td>\n",
       "      <td>0.0055</td>\n",
       "      <td>33.7876</td>\n",
       "      <td>-1</td>\n",
       "    </tr>\n",
       "    <tr>\n",
       "      <th>3</th>\n",
       "      <td>Wafer-804</td>\n",
       "      <td>3021.83</td>\n",
       "      <td>2419.83</td>\n",
       "      <td>2205.7445</td>\n",
       "      <td>1363.1048</td>\n",
       "      <td>1.0518</td>\n",
       "      <td>100.0</td>\n",
       "      <td>101.8644</td>\n",
       "      <td>0.1220</td>\n",
       "      <td>1.4108</td>\n",
       "      <td>...</td>\n",
       "      <td>NaN</td>\n",
       "      <td>0.4934</td>\n",
       "      <td>0.0123</td>\n",
       "      <td>0.0040</td>\n",
       "      <td>2.4923</td>\n",
       "      <td>0.0545</td>\n",
       "      <td>0.0184</td>\n",
       "      <td>0.0055</td>\n",
       "      <td>33.7876</td>\n",
       "      <td>-1</td>\n",
       "    </tr>\n",
       "    <tr>\n",
       "      <th>4</th>\n",
       "      <td>Wafer-805</td>\n",
       "      <td>3006.95</td>\n",
       "      <td>2435.34</td>\n",
       "      <td>2189.8111</td>\n",
       "      <td>1084.6502</td>\n",
       "      <td>1.1993</td>\n",
       "      <td>100.0</td>\n",
       "      <td>104.8856</td>\n",
       "      <td>0.1234</td>\n",
       "      <td>1.5094</td>\n",
       "      <td>...</td>\n",
       "      <td>NaN</td>\n",
       "      <td>0.4987</td>\n",
       "      <td>0.0145</td>\n",
       "      <td>0.0041</td>\n",
       "      <td>2.8991</td>\n",
       "      <td>0.0545</td>\n",
       "      <td>0.0184</td>\n",
       "      <td>0.0055</td>\n",
       "      <td>33.7876</td>\n",
       "      <td>-1</td>\n",
       "    </tr>\n",
       "  </tbody>\n",
       "</table>\n",
       "<p>5 rows × 592 columns</p>\n",
       "</div>"
      ],
      "text/plain": [
       "  Unnamed: 0  Sensor-1  Sensor-2   Sensor-3   Sensor-4  Sensor-5  Sensor-6  \\\n",
       "0  Wafer-801   2968.33   2476.58  2216.7333  1748.0885    1.1127     100.0   \n",
       "1  Wafer-802   2961.04   2506.43  2170.0666  1364.5157    1.5447     100.0   \n",
       "2  Wafer-803   3072.03   2500.68  2205.7445  1363.1048    1.0518     100.0   \n",
       "3  Wafer-804   3021.83   2419.83  2205.7445  1363.1048    1.0518     100.0   \n",
       "4  Wafer-805   3006.95   2435.34  2189.8111  1084.6502    1.1993     100.0   \n",
       "\n",
       "   Sensor-7  Sensor-8  Sensor-9  ...  Sensor-582  Sensor-583  Sensor-584  \\\n",
       "0   97.5822    0.1242    1.5300  ...         NaN      0.5004      0.0120   \n",
       "1   96.7700    0.1230    1.3953  ...         NaN      0.4994      0.0115   \n",
       "2  101.8644    0.1220    1.3896  ...         NaN      0.4987      0.0118   \n",
       "3  101.8644    0.1220    1.4108  ...         NaN      0.4934      0.0123   \n",
       "4  104.8856    0.1234    1.5094  ...         NaN      0.4987      0.0145   \n",
       "\n",
       "   Sensor-585  Sensor-586  Sensor-587  Sensor-588  Sensor-589  Sensor-590  \\\n",
       "0      0.0033      2.4069      0.0545      0.0184      0.0055     33.7876   \n",
       "1      0.0031      2.3020      0.0545      0.0184      0.0055     33.7876   \n",
       "2      0.0036      2.3719      0.0545      0.0184      0.0055     33.7876   \n",
       "3      0.0040      2.4923      0.0545      0.0184      0.0055     33.7876   \n",
       "4      0.0041      2.8991      0.0545      0.0184      0.0055     33.7876   \n",
       "\n",
       "   Good/Bad  \n",
       "0        -1  \n",
       "1         1  \n",
       "2        -1  \n",
       "3        -1  \n",
       "4        -1  \n",
       "\n",
       "[5 rows x 592 columns]"
      ]
     },
     "execution_count": 7,
     "metadata": {},
     "output_type": "execute_result"
    }
   ],
   "source": [
    "df.head()"
   ]
  },
  {
   "cell_type": "code",
   "execution_count": 8,
   "id": "2c2b6d91",
   "metadata": {},
   "outputs": [],
   "source": [
    "df.rename(columns = {'Unnamed: 0':\"Wafers\"}, inplace = True)"
   ]
  },
  {
   "cell_type": "code",
   "execution_count": 9,
   "id": "c8a513a4",
   "metadata": {},
   "outputs": [
    {
     "data": {
      "text/html": [
       "<div>\n",
       "<style scoped>\n",
       "    .dataframe tbody tr th:only-of-type {\n",
       "        vertical-align: middle;\n",
       "    }\n",
       "\n",
       "    .dataframe tbody tr th {\n",
       "        vertical-align: top;\n",
       "    }\n",
       "\n",
       "    .dataframe thead th {\n",
       "        text-align: right;\n",
       "    }\n",
       "</style>\n",
       "<table border=\"1\" class=\"dataframe\">\n",
       "  <thead>\n",
       "    <tr style=\"text-align: right;\">\n",
       "      <th></th>\n",
       "      <th>Wafers</th>\n",
       "      <th>Sensor-1</th>\n",
       "      <th>Sensor-2</th>\n",
       "      <th>Sensor-3</th>\n",
       "      <th>Sensor-4</th>\n",
       "      <th>Sensor-5</th>\n",
       "      <th>Sensor-6</th>\n",
       "      <th>Sensor-7</th>\n",
       "      <th>Sensor-8</th>\n",
       "      <th>Sensor-9</th>\n",
       "      <th>...</th>\n",
       "      <th>Sensor-582</th>\n",
       "      <th>Sensor-583</th>\n",
       "      <th>Sensor-584</th>\n",
       "      <th>Sensor-585</th>\n",
       "      <th>Sensor-586</th>\n",
       "      <th>Sensor-587</th>\n",
       "      <th>Sensor-588</th>\n",
       "      <th>Sensor-589</th>\n",
       "      <th>Sensor-590</th>\n",
       "      <th>Good/Bad</th>\n",
       "    </tr>\n",
       "  </thead>\n",
       "  <tbody>\n",
       "    <tr>\n",
       "      <th>0</th>\n",
       "      <td>Wafer-801</td>\n",
       "      <td>2968.33</td>\n",
       "      <td>2476.58</td>\n",
       "      <td>2216.7333</td>\n",
       "      <td>1748.0885</td>\n",
       "      <td>1.1127</td>\n",
       "      <td>100.0</td>\n",
       "      <td>97.5822</td>\n",
       "      <td>0.1242</td>\n",
       "      <td>1.5300</td>\n",
       "      <td>...</td>\n",
       "      <td>NaN</td>\n",
       "      <td>0.5004</td>\n",
       "      <td>0.0120</td>\n",
       "      <td>0.0033</td>\n",
       "      <td>2.4069</td>\n",
       "      <td>0.0545</td>\n",
       "      <td>0.0184</td>\n",
       "      <td>0.0055</td>\n",
       "      <td>33.7876</td>\n",
       "      <td>-1</td>\n",
       "    </tr>\n",
       "    <tr>\n",
       "      <th>1</th>\n",
       "      <td>Wafer-802</td>\n",
       "      <td>2961.04</td>\n",
       "      <td>2506.43</td>\n",
       "      <td>2170.0666</td>\n",
       "      <td>1364.5157</td>\n",
       "      <td>1.5447</td>\n",
       "      <td>100.0</td>\n",
       "      <td>96.7700</td>\n",
       "      <td>0.1230</td>\n",
       "      <td>1.3953</td>\n",
       "      <td>...</td>\n",
       "      <td>NaN</td>\n",
       "      <td>0.4994</td>\n",
       "      <td>0.0115</td>\n",
       "      <td>0.0031</td>\n",
       "      <td>2.3020</td>\n",
       "      <td>0.0545</td>\n",
       "      <td>0.0184</td>\n",
       "      <td>0.0055</td>\n",
       "      <td>33.7876</td>\n",
       "      <td>1</td>\n",
       "    </tr>\n",
       "    <tr>\n",
       "      <th>2</th>\n",
       "      <td>Wafer-803</td>\n",
       "      <td>3072.03</td>\n",
       "      <td>2500.68</td>\n",
       "      <td>2205.7445</td>\n",
       "      <td>1363.1048</td>\n",
       "      <td>1.0518</td>\n",
       "      <td>100.0</td>\n",
       "      <td>101.8644</td>\n",
       "      <td>0.1220</td>\n",
       "      <td>1.3896</td>\n",
       "      <td>...</td>\n",
       "      <td>NaN</td>\n",
       "      <td>0.4987</td>\n",
       "      <td>0.0118</td>\n",
       "      <td>0.0036</td>\n",
       "      <td>2.3719</td>\n",
       "      <td>0.0545</td>\n",
       "      <td>0.0184</td>\n",
       "      <td>0.0055</td>\n",
       "      <td>33.7876</td>\n",
       "      <td>-1</td>\n",
       "    </tr>\n",
       "    <tr>\n",
       "      <th>3</th>\n",
       "      <td>Wafer-804</td>\n",
       "      <td>3021.83</td>\n",
       "      <td>2419.83</td>\n",
       "      <td>2205.7445</td>\n",
       "      <td>1363.1048</td>\n",
       "      <td>1.0518</td>\n",
       "      <td>100.0</td>\n",
       "      <td>101.8644</td>\n",
       "      <td>0.1220</td>\n",
       "      <td>1.4108</td>\n",
       "      <td>...</td>\n",
       "      <td>NaN</td>\n",
       "      <td>0.4934</td>\n",
       "      <td>0.0123</td>\n",
       "      <td>0.0040</td>\n",
       "      <td>2.4923</td>\n",
       "      <td>0.0545</td>\n",
       "      <td>0.0184</td>\n",
       "      <td>0.0055</td>\n",
       "      <td>33.7876</td>\n",
       "      <td>-1</td>\n",
       "    </tr>\n",
       "    <tr>\n",
       "      <th>4</th>\n",
       "      <td>Wafer-805</td>\n",
       "      <td>3006.95</td>\n",
       "      <td>2435.34</td>\n",
       "      <td>2189.8111</td>\n",
       "      <td>1084.6502</td>\n",
       "      <td>1.1993</td>\n",
       "      <td>100.0</td>\n",
       "      <td>104.8856</td>\n",
       "      <td>0.1234</td>\n",
       "      <td>1.5094</td>\n",
       "      <td>...</td>\n",
       "      <td>NaN</td>\n",
       "      <td>0.4987</td>\n",
       "      <td>0.0145</td>\n",
       "      <td>0.0041</td>\n",
       "      <td>2.8991</td>\n",
       "      <td>0.0545</td>\n",
       "      <td>0.0184</td>\n",
       "      <td>0.0055</td>\n",
       "      <td>33.7876</td>\n",
       "      <td>-1</td>\n",
       "    </tr>\n",
       "  </tbody>\n",
       "</table>\n",
       "<p>5 rows × 592 columns</p>\n",
       "</div>"
      ],
      "text/plain": [
       "      Wafers  Sensor-1  Sensor-2   Sensor-3   Sensor-4  Sensor-5  Sensor-6  \\\n",
       "0  Wafer-801   2968.33   2476.58  2216.7333  1748.0885    1.1127     100.0   \n",
       "1  Wafer-802   2961.04   2506.43  2170.0666  1364.5157    1.5447     100.0   \n",
       "2  Wafer-803   3072.03   2500.68  2205.7445  1363.1048    1.0518     100.0   \n",
       "3  Wafer-804   3021.83   2419.83  2205.7445  1363.1048    1.0518     100.0   \n",
       "4  Wafer-805   3006.95   2435.34  2189.8111  1084.6502    1.1993     100.0   \n",
       "\n",
       "   Sensor-7  Sensor-8  Sensor-9  ...  Sensor-582  Sensor-583  Sensor-584  \\\n",
       "0   97.5822    0.1242    1.5300  ...         NaN      0.5004      0.0120   \n",
       "1   96.7700    0.1230    1.3953  ...         NaN      0.4994      0.0115   \n",
       "2  101.8644    0.1220    1.3896  ...         NaN      0.4987      0.0118   \n",
       "3  101.8644    0.1220    1.4108  ...         NaN      0.4934      0.0123   \n",
       "4  104.8856    0.1234    1.5094  ...         NaN      0.4987      0.0145   \n",
       "\n",
       "   Sensor-585  Sensor-586  Sensor-587  Sensor-588  Sensor-589  Sensor-590  \\\n",
       "0      0.0033      2.4069      0.0545      0.0184      0.0055     33.7876   \n",
       "1      0.0031      2.3020      0.0545      0.0184      0.0055     33.7876   \n",
       "2      0.0036      2.3719      0.0545      0.0184      0.0055     33.7876   \n",
       "3      0.0040      2.4923      0.0545      0.0184      0.0055     33.7876   \n",
       "4      0.0041      2.8991      0.0545      0.0184      0.0055     33.7876   \n",
       "\n",
       "   Good/Bad  \n",
       "0        -1  \n",
       "1         1  \n",
       "2        -1  \n",
       "3        -1  \n",
       "4        -1  \n",
       "\n",
       "[5 rows x 592 columns]"
      ]
     },
     "execution_count": 9,
     "metadata": {},
     "output_type": "execute_result"
    }
   ],
   "source": [
    "df.head()"
   ]
  },
  {
   "cell_type": "code",
   "execution_count": 10,
   "id": "5224eced",
   "metadata": {},
   "outputs": [
    {
     "name": "stdout",
     "output_type": "stream",
     "text": [
      "Requirement already satisfied: scikit-learn in c:\\users\\pc\\anaconda4\\lib\\site-packages (1.2.2)\n",
      "Requirement already satisfied: numpy>=1.17.3 in c:\\users\\pc\\anaconda4\\lib\\site-packages (from scikit-learn) (1.24.3)\n",
      "Requirement already satisfied: scipy>=1.3.2 in c:\\users\\pc\\anaconda4\\lib\\site-packages (from scikit-learn) (1.11.1)\n",
      "Requirement already satisfied: joblib>=1.1.1 in c:\\users\\pc\\anaconda4\\lib\\site-packages (from scikit-learn) (1.2.0)\n",
      "Requirement already satisfied: threadpoolctl>=2.0.0 in c:\\users\\pc\\anaconda4\\lib\\site-packages (from scikit-learn) (2.2.0)\n",
      "Note: you may need to restart the kernel to use updated packages.\n"
     ]
    }
   ],
   "source": [
    "pip install scikit-learn"
   ]
  },
  {
   "cell_type": "code",
   "execution_count": 11,
   "id": "1e956722",
   "metadata": {},
   "outputs": [
    {
     "name": "stdout",
     "output_type": "stream",
     "text": [
      "<class 'pandas.core.frame.DataFrame'>\n",
      "Index: 80 entries, 55 to 51\n",
      "Columns: 592 entries, Wafers to Good/Bad\n",
      "dtypes: float64(494), int64(97), object(1)\n",
      "memory usage: 370.6+ KB\n"
     ]
    }
   ],
   "source": [
    "from sklearn.model_selection import train_test_split\n",
    "\n",
    "df,df_test = train_test_split(df,test_size=0.2,random_state=42)\n",
    "df.info()"
   ]
  },
  {
   "cell_type": "code",
   "execution_count": 12,
   "id": "7cf53778",
   "metadata": {},
   "outputs": [
    {
     "name": "stdout",
     "output_type": "stream",
     "text": [
      "<class 'pandas.core.frame.DataFrame'>\n",
      "Index: 20 entries, 83 to 31\n",
      "Columns: 592 entries, Wafers to Good/Bad\n",
      "dtypes: float64(494), int64(97), object(1)\n",
      "memory usage: 92.7+ KB\n"
     ]
    }
   ],
   "source": [
    "df_test.info()"
   ]
  },
  {
   "cell_type": "code",
   "execution_count": 18,
   "id": "16543f2a",
   "metadata": {},
   "outputs": [
    {
     "data": {
      "text/html": [
       "<div>\n",
       "<style scoped>\n",
       "    .dataframe tbody tr th:only-of-type {\n",
       "        vertical-align: middle;\n",
       "    }\n",
       "\n",
       "    .dataframe tbody tr th {\n",
       "        vertical-align: top;\n",
       "    }\n",
       "\n",
       "    .dataframe thead th {\n",
       "        text-align: right;\n",
       "    }\n",
       "</style>\n",
       "<table border=\"1\" class=\"dataframe\">\n",
       "  <thead>\n",
       "    <tr style=\"text-align: right;\">\n",
       "      <th></th>\n",
       "      <th>Sensor-1</th>\n",
       "      <th>Sensor-2</th>\n",
       "      <th>Sensor-3</th>\n",
       "      <th>Sensor-4</th>\n",
       "      <th>Sensor-5</th>\n",
       "      <th>Sensor-6</th>\n",
       "      <th>Sensor-7</th>\n",
       "      <th>Sensor-8</th>\n",
       "      <th>Sensor-9</th>\n",
       "      <th>Sensor-10</th>\n",
       "      <th>...</th>\n",
       "      <th>Sensor-582</th>\n",
       "      <th>Sensor-583</th>\n",
       "      <th>Sensor-584</th>\n",
       "      <th>Sensor-585</th>\n",
       "      <th>Sensor-586</th>\n",
       "      <th>Sensor-587</th>\n",
       "      <th>Sensor-588</th>\n",
       "      <th>Sensor-589</th>\n",
       "      <th>Sensor-590</th>\n",
       "      <th>Good/Bad</th>\n",
       "    </tr>\n",
       "  </thead>\n",
       "  <tbody>\n",
       "    <tr>\n",
       "      <th>count</th>\n",
       "      <td>79.000000</td>\n",
       "      <td>80.000000</td>\n",
       "      <td>78.000000</td>\n",
       "      <td>78.000000</td>\n",
       "      <td>78.000000</td>\n",
       "      <td>78.0</td>\n",
       "      <td>78.000000</td>\n",
       "      <td>78.000000</td>\n",
       "      <td>80.000000</td>\n",
       "      <td>80.000000</td>\n",
       "      <td>...</td>\n",
       "      <td>27.000000</td>\n",
       "      <td>80.000000</td>\n",
       "      <td>80.000000</td>\n",
       "      <td>80.000000</td>\n",
       "      <td>80.000000</td>\n",
       "      <td>80.000000</td>\n",
       "      <td>80.000000</td>\n",
       "      <td>80.000000</td>\n",
       "      <td>80.000000</td>\n",
       "      <td>80.000000</td>\n",
       "    </tr>\n",
       "    <tr>\n",
       "      <th>mean</th>\n",
       "      <td>3019.048228</td>\n",
       "      <td>2494.058875</td>\n",
       "      <td>2202.758988</td>\n",
       "      <td>1519.467071</td>\n",
       "      <td>1.201382</td>\n",
       "      <td>100.0</td>\n",
       "      <td>96.881160</td>\n",
       "      <td>0.122158</td>\n",
       "      <td>1.460087</td>\n",
       "      <td>0.000946</td>\n",
       "      <td>...</td>\n",
       "      <td>63.785093</td>\n",
       "      <td>0.499493</td>\n",
       "      <td>0.013905</td>\n",
       "      <td>0.003591</td>\n",
       "      <td>2.785103</td>\n",
       "      <td>0.023543</td>\n",
       "      <td>0.014155</td>\n",
       "      <td>0.004439</td>\n",
       "      <td>72.116730</td>\n",
       "      <td>-0.850000</td>\n",
       "    </tr>\n",
       "    <tr>\n",
       "      <th>std</th>\n",
       "      <td>72.665372</td>\n",
       "      <td>68.166898</td>\n",
       "      <td>31.633772</td>\n",
       "      <td>471.962104</td>\n",
       "      <td>0.365870</td>\n",
       "      <td>0.0</td>\n",
       "      <td>5.520108</td>\n",
       "      <td>0.002062</td>\n",
       "      <td>0.072159</td>\n",
       "      <td>0.010865</td>\n",
       "      <td>...</td>\n",
       "      <td>30.722790</td>\n",
       "      <td>0.003683</td>\n",
       "      <td>0.004577</td>\n",
       "      <td>0.000908</td>\n",
       "      <td>0.923064</td>\n",
       "      <td>0.011668</td>\n",
       "      <td>0.007263</td>\n",
       "      <td>0.002324</td>\n",
       "      <td>50.770394</td>\n",
       "      <td>0.530106</td>\n",
       "    </tr>\n",
       "    <tr>\n",
       "      <th>min</th>\n",
       "      <td>2889.670000</td>\n",
       "      <td>2254.990000</td>\n",
       "      <td>2114.666700</td>\n",
       "      <td>978.783200</td>\n",
       "      <td>0.753100</td>\n",
       "      <td>100.0</td>\n",
       "      <td>83.423300</td>\n",
       "      <td>0.116000</td>\n",
       "      <td>1.317900</td>\n",
       "      <td>-0.026500</td>\n",
       "      <td>...</td>\n",
       "      <td>20.309100</td>\n",
       "      <td>0.492500</td>\n",
       "      <td>0.007600</td>\n",
       "      <td>0.002100</td>\n",
       "      <td>1.515200</td>\n",
       "      <td>0.009900</td>\n",
       "      <td>0.004800</td>\n",
       "      <td>0.001700</td>\n",
       "      <td>20.309100</td>\n",
       "      <td>-1.000000</td>\n",
       "    </tr>\n",
       "    <tr>\n",
       "      <th>25%</th>\n",
       "      <td>2975.425000</td>\n",
       "      <td>2452.517500</td>\n",
       "      <td>2189.966700</td>\n",
       "      <td>1111.543600</td>\n",
       "      <td>0.850075</td>\n",
       "      <td>100.0</td>\n",
       "      <td>93.547250</td>\n",
       "      <td>0.120800</td>\n",
       "      <td>1.409950</td>\n",
       "      <td>-0.005750</td>\n",
       "      <td>...</td>\n",
       "      <td>46.961400</td>\n",
       "      <td>0.497175</td>\n",
       "      <td>0.011500</td>\n",
       "      <td>0.003100</td>\n",
       "      <td>2.298350</td>\n",
       "      <td>0.013850</td>\n",
       "      <td>0.009000</td>\n",
       "      <td>0.002650</td>\n",
       "      <td>33.654025</td>\n",
       "      <td>-1.000000</td>\n",
       "    </tr>\n",
       "    <tr>\n",
       "      <th>50%</th>\n",
       "      <td>3004.390000</td>\n",
       "      <td>2502.445000</td>\n",
       "      <td>2200.955600</td>\n",
       "      <td>1308.647900</td>\n",
       "      <td>1.164250</td>\n",
       "      <td>100.0</td>\n",
       "      <td>99.217800</td>\n",
       "      <td>0.122150</td>\n",
       "      <td>1.451900</td>\n",
       "      <td>0.001500</td>\n",
       "      <td>...</td>\n",
       "      <td>54.476100</td>\n",
       "      <td>0.499450</td>\n",
       "      <td>0.012950</td>\n",
       "      <td>0.003400</td>\n",
       "      <td>2.577150</td>\n",
       "      <td>0.021800</td>\n",
       "      <td>0.013100</td>\n",
       "      <td>0.003800</td>\n",
       "      <td>59.082500</td>\n",
       "      <td>-1.000000</td>\n",
       "    </tr>\n",
       "    <tr>\n",
       "      <th>75%</th>\n",
       "      <td>3065.730000</td>\n",
       "      <td>2532.755000</td>\n",
       "      <td>2212.866700</td>\n",
       "      <td>1997.641600</td>\n",
       "      <td>1.383000</td>\n",
       "      <td>100.0</td>\n",
       "      <td>101.133300</td>\n",
       "      <td>0.123375</td>\n",
       "      <td>1.498675</td>\n",
       "      <td>0.009000</td>\n",
       "      <td>...</td>\n",
       "      <td>80.740300</td>\n",
       "      <td>0.501700</td>\n",
       "      <td>0.014950</td>\n",
       "      <td>0.003925</td>\n",
       "      <td>2.992300</td>\n",
       "      <td>0.028100</td>\n",
       "      <td>0.018400</td>\n",
       "      <td>0.005750</td>\n",
       "      <td>93.190025</td>\n",
       "      <td>-1.000000</td>\n",
       "    </tr>\n",
       "    <tr>\n",
       "      <th>max</th>\n",
       "      <td>3221.210000</td>\n",
       "      <td>2664.520000</td>\n",
       "      <td>2315.266700</td>\n",
       "      <td>2363.641200</td>\n",
       "      <td>2.207300</td>\n",
       "      <td>100.0</td>\n",
       "      <td>103.091100</td>\n",
       "      <td>0.126200</td>\n",
       "      <td>1.641100</td>\n",
       "      <td>0.025000</td>\n",
       "      <td>...</td>\n",
       "      <td>151.193000</td>\n",
       "      <td>0.508700</td>\n",
       "      <td>0.043700</td>\n",
       "      <td>0.008900</td>\n",
       "      <td>8.816000</td>\n",
       "      <td>0.054500</td>\n",
       "      <td>0.033400</td>\n",
       "      <td>0.012000</td>\n",
       "      <td>223.101800</td>\n",
       "      <td>1.000000</td>\n",
       "    </tr>\n",
       "  </tbody>\n",
       "</table>\n",
       "<p>8 rows × 591 columns</p>\n",
       "</div>"
      ],
      "text/plain": [
       "          Sensor-1     Sensor-2     Sensor-3     Sensor-4   Sensor-5  \\\n",
       "count    79.000000    80.000000    78.000000    78.000000  78.000000   \n",
       "mean   3019.048228  2494.058875  2202.758988  1519.467071   1.201382   \n",
       "std      72.665372    68.166898    31.633772   471.962104   0.365870   \n",
       "min    2889.670000  2254.990000  2114.666700   978.783200   0.753100   \n",
       "25%    2975.425000  2452.517500  2189.966700  1111.543600   0.850075   \n",
       "50%    3004.390000  2502.445000  2200.955600  1308.647900   1.164250   \n",
       "75%    3065.730000  2532.755000  2212.866700  1997.641600   1.383000   \n",
       "max    3221.210000  2664.520000  2315.266700  2363.641200   2.207300   \n",
       "\n",
       "       Sensor-6    Sensor-7   Sensor-8   Sensor-9  Sensor-10  ...  Sensor-582  \\\n",
       "count      78.0   78.000000  78.000000  80.000000  80.000000  ...   27.000000   \n",
       "mean      100.0   96.881160   0.122158   1.460087   0.000946  ...   63.785093   \n",
       "std         0.0    5.520108   0.002062   0.072159   0.010865  ...   30.722790   \n",
       "min       100.0   83.423300   0.116000   1.317900  -0.026500  ...   20.309100   \n",
       "25%       100.0   93.547250   0.120800   1.409950  -0.005750  ...   46.961400   \n",
       "50%       100.0   99.217800   0.122150   1.451900   0.001500  ...   54.476100   \n",
       "75%       100.0  101.133300   0.123375   1.498675   0.009000  ...   80.740300   \n",
       "max       100.0  103.091100   0.126200   1.641100   0.025000  ...  151.193000   \n",
       "\n",
       "       Sensor-583  Sensor-584  Sensor-585  Sensor-586  Sensor-587  Sensor-588  \\\n",
       "count   80.000000   80.000000   80.000000   80.000000   80.000000   80.000000   \n",
       "mean     0.499493    0.013905    0.003591    2.785103    0.023543    0.014155   \n",
       "std      0.003683    0.004577    0.000908    0.923064    0.011668    0.007263   \n",
       "min      0.492500    0.007600    0.002100    1.515200    0.009900    0.004800   \n",
       "25%      0.497175    0.011500    0.003100    2.298350    0.013850    0.009000   \n",
       "50%      0.499450    0.012950    0.003400    2.577150    0.021800    0.013100   \n",
       "75%      0.501700    0.014950    0.003925    2.992300    0.028100    0.018400   \n",
       "max      0.508700    0.043700    0.008900    8.816000    0.054500    0.033400   \n",
       "\n",
       "       Sensor-589  Sensor-590   Good/Bad  \n",
       "count   80.000000   80.000000  80.000000  \n",
       "mean     0.004439   72.116730  -0.850000  \n",
       "std      0.002324   50.770394   0.530106  \n",
       "min      0.001700   20.309100  -1.000000  \n",
       "25%      0.002650   33.654025  -1.000000  \n",
       "50%      0.003800   59.082500  -1.000000  \n",
       "75%      0.005750   93.190025  -1.000000  \n",
       "max      0.012000  223.101800   1.000000  \n",
       "\n",
       "[8 rows x 591 columns]"
      ]
     },
     "execution_count": 18,
     "metadata": {},
     "output_type": "execute_result"
    }
   ],
   "source": [
    "df.describe()"
   ]
  },
  {
   "cell_type": "code",
   "execution_count": 19,
   "id": "8e5b9d8c",
   "metadata": {},
   "outputs": [
    {
     "data": {
      "text/plain": [
       "0"
      ]
     },
     "execution_count": 19,
     "metadata": {},
     "output_type": "execute_result"
    }
   ],
   "source": [
    "df['Good/Bad'].isnull().sum()"
   ]
  },
  {
   "cell_type": "code",
   "execution_count": 20,
   "id": "8ae587d3",
   "metadata": {},
   "outputs": [
    {
     "data": {
      "text/plain": [
       "1822"
      ]
     },
     "execution_count": 20,
     "metadata": {},
     "output_type": "execute_result"
    }
   ],
   "source": [
    "df.isnull().sum().sum()"
   ]
  },
  {
   "cell_type": "code",
   "execution_count": 21,
   "id": "63e87bb9",
   "metadata": {},
   "outputs": [
    {
     "data": {
      "text/plain": [
       "0"
      ]
     },
     "execution_count": 21,
     "metadata": {},
     "output_type": "execute_result"
    }
   ],
   "source": [
    "df.duplicated().sum()"
   ]
  },
  {
   "cell_type": "code",
   "execution_count": 22,
   "id": "25b8d512",
   "metadata": {},
   "outputs": [
    {
     "data": {
      "text/plain": [
       "3.8536379018612523"
      ]
     },
     "execution_count": 22,
     "metadata": {},
     "output_type": "execute_result"
    }
   ],
   "source": [
    "# How many percentege are missing values in the training data\n",
    "df.isnull().sum().sum()/(df.shape[0]*(df.shape[1]-1))*100"
   ]
  },
  {
   "cell_type": "code",
   "execution_count": 23,
   "id": "8970c2e8",
   "metadata": {},
   "outputs": [
    {
     "data": {
      "text/plain": [
       "484"
      ]
     },
     "execution_count": 23,
     "metadata": {},
     "output_type": "execute_result"
    }
   ],
   "source": [
    "df_test.isnull().sum().sum()"
   ]
  },
  {
   "cell_type": "code",
   "execution_count": 24,
   "id": "94c3ffd0",
   "metadata": {},
   "outputs": [
    {
     "data": {
      "text/plain": [
       "4.094754653130288"
      ]
     },
     "execution_count": 24,
     "metadata": {},
     "output_type": "execute_result"
    }
   ],
   "source": [
    "# How many percentage are missing values in the testing data\n",
    "df_test.isnull().sum().sum()/(df_test.shape[0]*(df_test.shape[1]-1))*100"
   ]
  },
  {
   "cell_type": "code",
   "execution_count": 25,
   "id": "2a3fd9ed",
   "metadata": {},
   "outputs": [
    {
     "data": {
      "image/png": "[encoded data removed]",
      "text/plain": [
       "<Figure size 1200x10000 with 50 Axes>"
      ]
     },
     "metadata": {},
     "output_type": "display_data"
    }
   ],
   "source": [
    "# let's have a look at the distribution first 50 sensors of Wafers\n",
    "plt.figure(figsize = (12,100))\n",
    "for i, col in enumerate(df.columns[1:51]):\n",
    "    plt.subplot(60, 3, i+1)\n",
    "    sns.histplot(x=df[col], color='indianred')\n",
    "    plt.xlabel(col, weight='bold')\n",
    "    "
   ]
  },
  {
   "cell_type": "code",
   "execution_count": 26,
   "id": "cf08a2c7",
   "metadata": {},
   "outputs": [],
   "source": [
    "def get_cols_zero_std(df : pd.DataFrame):\n",
    "    cols_to_drop = []\n",
    "    num_cols = [i for i in df.columns[1:] if df[i].dtype != \"O\"]\n",
    "    for i in df.columns[1:]:\n",
    "        if df[i].std() ==0:\n",
    "            cols_to_drop.append(i)\n",
    "    return cols_to_drop"
   ]
  },
  {
   "cell_type": "code",
   "execution_count": 27,
   "id": "0eee76d0",
   "metadata": {},
   "outputs": [],
   "source": [
    "def get_reduntant_col(df: pd.DataFrame, missing_thresh = .7):\n",
    "    cols_missing_ratio = df.isnull().sum().div(df.shape[0])\n",
    "    cols_to_drop = list(cols_missing_ratio[cols_missing_ratio > missing_thresh].index)\n",
    "    return cols_to_drop"
   ]
  },
  {
   "cell_type": "code",
   "execution_count": 28,
   "id": "965565a7",
   "metadata": {},
   "outputs": [
    {
     "data": {
      "text/html": [
       "<div>\n",
       "<style scoped>\n",
       "    .dataframe tbody tr th:only-of-type {\n",
       "        vertical-align: middle;\n",
       "    }\n",
       "\n",
       "    .dataframe tbody tr th {\n",
       "        vertical-align: top;\n",
       "    }\n",
       "\n",
       "    .dataframe thead th {\n",
       "        text-align: right;\n",
       "    }\n",
       "</style>\n",
       "<table border=\"1\" class=\"dataframe\">\n",
       "  <thead>\n",
       "    <tr style=\"text-align: right;\">\n",
       "      <th></th>\n",
       "      <th>Wafers</th>\n",
       "      <th>Sensor-1</th>\n",
       "      <th>Sensor-2</th>\n",
       "      <th>Sensor-3</th>\n",
       "      <th>Sensor-4</th>\n",
       "      <th>Sensor-5</th>\n",
       "      <th>Sensor-6</th>\n",
       "      <th>Sensor-7</th>\n",
       "      <th>Sensor-8</th>\n",
       "      <th>Sensor-9</th>\n",
       "      <th>...</th>\n",
       "      <th>Sensor-582</th>\n",
       "      <th>Sensor-583</th>\n",
       "      <th>Sensor-584</th>\n",
       "      <th>Sensor-585</th>\n",
       "      <th>Sensor-586</th>\n",
       "      <th>Sensor-587</th>\n",
       "      <th>Sensor-588</th>\n",
       "      <th>Sensor-589</th>\n",
       "      <th>Sensor-590</th>\n",
       "      <th>Good/Bad</th>\n",
       "    </tr>\n",
       "  </thead>\n",
       "  <tbody>\n",
       "    <tr>\n",
       "      <th>55</th>\n",
       "      <td>Wafer-856</td>\n",
       "      <td>NaN</td>\n",
       "      <td>2532.45</td>\n",
       "      <td>2191.1333</td>\n",
       "      <td>2197.6570</td>\n",
       "      <td>1.1569</td>\n",
       "      <td>100.0</td>\n",
       "      <td>89.7222</td>\n",
       "      <td>0.1251</td>\n",
       "      <td>1.5762</td>\n",
       "      <td>...</td>\n",
       "      <td>NaN</td>\n",
       "      <td>0.4936</td>\n",
       "      <td>0.0113</td>\n",
       "      <td>0.0033</td>\n",
       "      <td>2.2874</td>\n",
       "      <td>0.0133</td>\n",
       "      <td>0.0139</td>\n",
       "      <td>0.0038</td>\n",
       "      <td>104.3034</td>\n",
       "      <td>-1</td>\n",
       "    </tr>\n",
       "    <tr>\n",
       "      <th>88</th>\n",
       "      <td>Wafer-889</td>\n",
       "      <td>3221.21</td>\n",
       "      <td>2391.20</td>\n",
       "      <td>2189.9667</td>\n",
       "      <td>1046.6212</td>\n",
       "      <td>0.8662</td>\n",
       "      <td>100.0</td>\n",
       "      <td>102.3622</td>\n",
       "      <td>0.1208</td>\n",
       "      <td>1.4756</td>\n",
       "      <td>...</td>\n",
       "      <td>NaN</td>\n",
       "      <td>0.4940</td>\n",
       "      <td>0.0123</td>\n",
       "      <td>0.0033</td>\n",
       "      <td>2.4860</td>\n",
       "      <td>0.0280</td>\n",
       "      <td>0.0078</td>\n",
       "      <td>0.0022</td>\n",
       "      <td>27.7601</td>\n",
       "      <td>-1</td>\n",
       "    </tr>\n",
       "    <tr>\n",
       "      <th>26</th>\n",
       "      <td>Wafer-827</td>\n",
       "      <td>2951.85</td>\n",
       "      <td>2525.00</td>\n",
       "      <td>2189.5777</td>\n",
       "      <td>1320.3197</td>\n",
       "      <td>1.3459</td>\n",
       "      <td>100.0</td>\n",
       "      <td>100.7744</td>\n",
       "      <td>0.1234</td>\n",
       "      <td>1.5590</td>\n",
       "      <td>...</td>\n",
       "      <td>53.8577</td>\n",
       "      <td>0.5025</td>\n",
       "      <td>0.0178</td>\n",
       "      <td>0.0045</td>\n",
       "      <td>3.5361</td>\n",
       "      <td>0.0286</td>\n",
       "      <td>0.0154</td>\n",
       "      <td>0.0056</td>\n",
       "      <td>53.8577</td>\n",
       "      <td>-1</td>\n",
       "    </tr>\n",
       "    <tr>\n",
       "      <th>42</th>\n",
       "      <td>Wafer-843</td>\n",
       "      <td>2982.07</td>\n",
       "      <td>2447.06</td>\n",
       "      <td>2199.6334</td>\n",
       "      <td>1242.8420</td>\n",
       "      <td>1.4083</td>\n",
       "      <td>100.0</td>\n",
       "      <td>99.2178</td>\n",
       "      <td>0.1221</td>\n",
       "      <td>1.4542</td>\n",
       "      <td>...</td>\n",
       "      <td>NaN</td>\n",
       "      <td>0.4993</td>\n",
       "      <td>0.0151</td>\n",
       "      <td>0.0038</td>\n",
       "      <td>3.0214</td>\n",
       "      <td>0.0117</td>\n",
       "      <td>0.0262</td>\n",
       "      <td>0.0089</td>\n",
       "      <td>223.1018</td>\n",
       "      <td>-1</td>\n",
       "    </tr>\n",
       "    <tr>\n",
       "      <th>69</th>\n",
       "      <td>Wafer-870</td>\n",
       "      <td>3058.08</td>\n",
       "      <td>2524.60</td>\n",
       "      <td>2192.3778</td>\n",
       "      <td>1110.5453</td>\n",
       "      <td>0.8147</td>\n",
       "      <td>100.0</td>\n",
       "      <td>99.2922</td>\n",
       "      <td>0.1226</td>\n",
       "      <td>1.4958</td>\n",
       "      <td>...</td>\n",
       "      <td>24.6547</td>\n",
       "      <td>0.4974</td>\n",
       "      <td>0.0171</td>\n",
       "      <td>0.0040</td>\n",
       "      <td>3.4352</td>\n",
       "      <td>0.0218</td>\n",
       "      <td>0.0054</td>\n",
       "      <td>0.0020</td>\n",
       "      <td>24.6547</td>\n",
       "      <td>-1</td>\n",
       "    </tr>\n",
       "    <tr>\n",
       "      <th>...</th>\n",
       "      <td>...</td>\n",
       "      <td>...</td>\n",
       "      <td>...</td>\n",
       "      <td>...</td>\n",
       "      <td>...</td>\n",
       "      <td>...</td>\n",
       "      <td>...</td>\n",
       "      <td>...</td>\n",
       "      <td>...</td>\n",
       "      <td>...</td>\n",
       "      <td>...</td>\n",
       "      <td>...</td>\n",
       "      <td>...</td>\n",
       "      <td>...</td>\n",
       "      <td>...</td>\n",
       "      <td>...</td>\n",
       "      <td>...</td>\n",
       "      <td>...</td>\n",
       "      <td>...</td>\n",
       "      <td>...</td>\n",
       "      <td>...</td>\n",
       "    </tr>\n",
       "    <tr>\n",
       "      <th>60</th>\n",
       "      <td>Wafer-861</td>\n",
       "      <td>3071.05</td>\n",
       "      <td>2642.15</td>\n",
       "      <td>2200.9889</td>\n",
       "      <td>1054.5240</td>\n",
       "      <td>1.3830</td>\n",
       "      <td>100.0</td>\n",
       "      <td>100.1800</td>\n",
       "      <td>0.1201</td>\n",
       "      <td>1.4532</td>\n",
       "      <td>...</td>\n",
       "      <td>NaN</td>\n",
       "      <td>0.4973</td>\n",
       "      <td>0.0139</td>\n",
       "      <td>0.0039</td>\n",
       "      <td>2.7851</td>\n",
       "      <td>0.0122</td>\n",
       "      <td>0.0131</td>\n",
       "      <td>0.0039</td>\n",
       "      <td>107.5257</td>\n",
       "      <td>-1</td>\n",
       "    </tr>\n",
       "    <tr>\n",
       "      <th>71</th>\n",
       "      <td>Wafer-872</td>\n",
       "      <td>3043.18</td>\n",
       "      <td>2545.53</td>\n",
       "      <td>2192.3778</td>\n",
       "      <td>1110.5453</td>\n",
       "      <td>0.8147</td>\n",
       "      <td>100.0</td>\n",
       "      <td>99.2922</td>\n",
       "      <td>0.1226</td>\n",
       "      <td>1.3824</td>\n",
       "      <td>...</td>\n",
       "      <td>NaN</td>\n",
       "      <td>0.4989</td>\n",
       "      <td>0.0131</td>\n",
       "      <td>0.0036</td>\n",
       "      <td>2.6253</td>\n",
       "      <td>0.0218</td>\n",
       "      <td>0.0054</td>\n",
       "      <td>0.0020</td>\n",
       "      <td>24.6547</td>\n",
       "      <td>-1</td>\n",
       "    </tr>\n",
       "    <tr>\n",
       "      <th>14</th>\n",
       "      <td>Wafer-815</td>\n",
       "      <td>3001.26</td>\n",
       "      <td>2519.92</td>\n",
       "      <td>2224.6778</td>\n",
       "      <td>1308.6479</td>\n",
       "      <td>1.3907</td>\n",
       "      <td>100.0</td>\n",
       "      <td>101.1333</td>\n",
       "      <td>0.1208</td>\n",
       "      <td>1.5172</td>\n",
       "      <td>...</td>\n",
       "      <td>48.4818</td>\n",
       "      <td>0.4959</td>\n",
       "      <td>0.0142</td>\n",
       "      <td>0.0037</td>\n",
       "      <td>2.8609</td>\n",
       "      <td>0.0278</td>\n",
       "      <td>0.0135</td>\n",
       "      <td>0.0042</td>\n",
       "      <td>48.4818</td>\n",
       "      <td>-1</td>\n",
       "    </tr>\n",
       "    <tr>\n",
       "      <th>92</th>\n",
       "      <td>Wafer-893</td>\n",
       "      <td>3007.00</td>\n",
       "      <td>2572.62</td>\n",
       "      <td>2213.2111</td>\n",
       "      <td>2070.7147</td>\n",
       "      <td>1.9705</td>\n",
       "      <td>100.0</td>\n",
       "      <td>87.7411</td>\n",
       "      <td>0.1232</td>\n",
       "      <td>1.4446</td>\n",
       "      <td>...</td>\n",
       "      <td>NaN</td>\n",
       "      <td>0.4987</td>\n",
       "      <td>0.0172</td>\n",
       "      <td>0.0041</td>\n",
       "      <td>3.4417</td>\n",
       "      <td>0.0195</td>\n",
       "      <td>0.0149</td>\n",
       "      <td>0.0047</td>\n",
       "      <td>76.0035</td>\n",
       "      <td>-1</td>\n",
       "    </tr>\n",
       "    <tr>\n",
       "      <th>51</th>\n",
       "      <td>Wafer-852</td>\n",
       "      <td>3078.77</td>\n",
       "      <td>2533.04</td>\n",
       "      <td>2187.4111</td>\n",
       "      <td>1942.3069</td>\n",
       "      <td>1.1864</td>\n",
       "      <td>100.0</td>\n",
       "      <td>88.0911</td>\n",
       "      <td>0.1245</td>\n",
       "      <td>1.4500</td>\n",
       "      <td>...</td>\n",
       "      <td>46.7092</td>\n",
       "      <td>0.4968</td>\n",
       "      <td>0.0202</td>\n",
       "      <td>0.0052</td>\n",
       "      <td>4.0733</td>\n",
       "      <td>0.0262</td>\n",
       "      <td>0.0123</td>\n",
       "      <td>0.0033</td>\n",
       "      <td>46.7092</td>\n",
       "      <td>-1</td>\n",
       "    </tr>\n",
       "  </tbody>\n",
       "</table>\n",
       "<p>80 rows × 592 columns</p>\n",
       "</div>"
      ],
      "text/plain": [
       "       Wafers  Sensor-1  Sensor-2   Sensor-3   Sensor-4  Sensor-5  Sensor-6  \\\n",
       "55  Wafer-856       NaN   2532.45  2191.1333  2197.6570    1.1569     100.0   \n",
       "88  Wafer-889   3221.21   2391.20  2189.9667  1046.6212    0.8662     100.0   \n",
       "26  Wafer-827   2951.85   2525.00  2189.5777  1320.3197    1.3459     100.0   \n",
       "42  Wafer-843   2982.07   2447.06  2199.6334  1242.8420    1.4083     100.0   \n",
       "69  Wafer-870   3058.08   2524.60  2192.3778  1110.5453    0.8147     100.0   \n",
       "..        ...       ...       ...        ...        ...       ...       ...   \n",
       "60  Wafer-861   3071.05   2642.15  2200.9889  1054.5240    1.3830     100.0   \n",
       "71  Wafer-872   3043.18   2545.53  2192.3778  1110.5453    0.8147     100.0   \n",
       "14  Wafer-815   3001.26   2519.92  2224.6778  1308.6479    1.3907     100.0   \n",
       "92  Wafer-893   3007.00   2572.62  2213.2111  2070.7147    1.9705     100.0   \n",
       "51  Wafer-852   3078.77   2533.04  2187.4111  1942.3069    1.1864     100.0   \n",
       "\n",
       "    Sensor-7  Sensor-8  Sensor-9  ...  Sensor-582  Sensor-583  Sensor-584  \\\n",
       "55   89.7222    0.1251    1.5762  ...         NaN      0.4936      0.0113   \n",
       "88  102.3622    0.1208    1.4756  ...         NaN      0.4940      0.0123   \n",
       "26  100.7744    0.1234    1.5590  ...     53.8577      0.5025      0.0178   \n",
       "42   99.2178    0.1221    1.4542  ...         NaN      0.4993      0.0151   \n",
       "69   99.2922    0.1226    1.4958  ...     24.6547      0.4974      0.0171   \n",
       "..       ...       ...       ...  ...         ...         ...         ...   \n",
       "60  100.1800    0.1201    1.4532  ...         NaN      0.4973      0.0139   \n",
       "71   99.2922    0.1226    1.3824  ...         NaN      0.4989      0.0131   \n",
       "14  101.1333    0.1208    1.5172  ...     48.4818      0.4959      0.0142   \n",
       "92   87.7411    0.1232    1.4446  ...         NaN      0.4987      0.0172   \n",
       "51   88.0911    0.1245    1.4500  ...     46.7092      0.4968      0.0202   \n",
       "\n",
       "    Sensor-585  Sensor-586  Sensor-587  Sensor-588  Sensor-589  Sensor-590  \\\n",
       "55      0.0033      2.2874      0.0133      0.0139      0.0038    104.3034   \n",
       "88      0.0033      2.4860      0.0280      0.0078      0.0022     27.7601   \n",
       "26      0.0045      3.5361      0.0286      0.0154      0.0056     53.8577   \n",
       "42      0.0038      3.0214      0.0117      0.0262      0.0089    223.1018   \n",
       "69      0.0040      3.4352      0.0218      0.0054      0.0020     24.6547   \n",
       "..         ...         ...         ...         ...         ...         ...   \n",
       "60      0.0039      2.7851      0.0122      0.0131      0.0039    107.5257   \n",
       "71      0.0036      2.6253      0.0218      0.0054      0.0020     24.6547   \n",
       "14      0.0037      2.8609      0.0278      0.0135      0.0042     48.4818   \n",
       "92      0.0041      3.4417      0.0195      0.0149      0.0047     76.0035   \n",
       "51      0.0052      4.0733      0.0262      0.0123      0.0033     46.7092   \n",
       "\n",
       "    Good/Bad  \n",
       "55        -1  \n",
       "88        -1  \n",
       "26        -1  \n",
       "42        -1  \n",
       "69        -1  \n",
       "..       ...  \n",
       "60        -1  \n",
       "71        -1  \n",
       "14        -1  \n",
       "92        -1  \n",
       "51        -1  \n",
       "\n",
       "[80 rows x 592 columns]"
      ]
     },
     "execution_count": 28,
     "metadata": {},
     "output_type": "execute_result"
    }
   ],
   "source": [
    "df"
   ]
  },
  {
   "cell_type": "code",
   "execution_count": 29,
   "id": "38a622b0",
   "metadata": {},
   "outputs": [
    {
     "data": {
      "text/plain": [
       "['Sensor-6',\n",
       " 'Sensor-14',\n",
       " 'Sensor-43',\n",
       " 'Sensor-50',\n",
       " 'Sensor-53',\n",
       " 'Sensor-70',\n",
       " 'Sensor-75',\n",
       " 'Sensor-98',\n",
       " 'Sensor-142',\n",
       " 'Sensor-150',\n",
       " 'Sensor-179',\n",
       " 'Sensor-180',\n",
       " 'Sensor-187',\n",
       " 'Sensor-190',\n",
       " 'Sensor-191',\n",
       " 'Sensor-192',\n",
       " 'Sensor-193',\n",
       " 'Sensor-194',\n",
       " 'Sensor-195',\n",
       " 'Sensor-207',\n",
       " 'Sensor-210',\n",
       " 'Sensor-227',\n",
       " 'Sensor-230',\n",
       " 'Sensor-231',\n",
       " 'Sensor-232',\n",
       " 'Sensor-233',\n",
       " 'Sensor-234',\n",
       " 'Sensor-235',\n",
       " 'Sensor-236',\n",
       " 'Sensor-237',\n",
       " 'Sensor-238',\n",
       " 'Sensor-241',\n",
       " 'Sensor-242',\n",
       " 'Sensor-243',\n",
       " 'Sensor-244',\n",
       " 'Sensor-257',\n",
       " 'Sensor-258',\n",
       " 'Sensor-259',\n",
       " 'Sensor-260',\n",
       " 'Sensor-261',\n",
       " 'Sensor-262',\n",
       " 'Sensor-263',\n",
       " 'Sensor-264',\n",
       " 'Sensor-265',\n",
       " 'Sensor-266',\n",
       " 'Sensor-267',\n",
       " 'Sensor-277',\n",
       " 'Sensor-285',\n",
       " 'Sensor-314',\n",
       " 'Sensor-315',\n",
       " 'Sensor-316',\n",
       " 'Sensor-323',\n",
       " 'Sensor-326',\n",
       " 'Sensor-327',\n",
       " 'Sensor-328',\n",
       " 'Sensor-329',\n",
       " 'Sensor-330',\n",
       " 'Sensor-331',\n",
       " 'Sensor-343',\n",
       " 'Sensor-348',\n",
       " 'Sensor-365',\n",
       " 'Sensor-370',\n",
       " 'Sensor-371',\n",
       " 'Sensor-372',\n",
       " 'Sensor-373',\n",
       " 'Sensor-374',\n",
       " 'Sensor-375',\n",
       " 'Sensor-376',\n",
       " 'Sensor-379',\n",
       " 'Sensor-380',\n",
       " 'Sensor-381',\n",
       " 'Sensor-382',\n",
       " 'Sensor-395',\n",
       " 'Sensor-396',\n",
       " 'Sensor-397',\n",
       " 'Sensor-398',\n",
       " 'Sensor-399',\n",
       " 'Sensor-400',\n",
       " 'Sensor-401',\n",
       " 'Sensor-402',\n",
       " 'Sensor-403',\n",
       " 'Sensor-404',\n",
       " 'Sensor-405',\n",
       " 'Sensor-415',\n",
       " 'Sensor-423',\n",
       " 'Sensor-450',\n",
       " 'Sensor-451',\n",
       " 'Sensor-452',\n",
       " 'Sensor-459',\n",
       " 'Sensor-462',\n",
       " 'Sensor-463',\n",
       " 'Sensor-464',\n",
       " 'Sensor-465',\n",
       " 'Sensor-466',\n",
       " 'Sensor-467',\n",
       " 'Sensor-479',\n",
       " 'Sensor-482',\n",
       " 'Sensor-499',\n",
       " 'Sensor-502',\n",
       " 'Sensor-503',\n",
       " 'Sensor-504',\n",
       " 'Sensor-505',\n",
       " 'Sensor-506',\n",
       " 'Sensor-507',\n",
       " 'Sensor-508',\n",
       " 'Sensor-509',\n",
       " 'Sensor-510',\n",
       " 'Sensor-513',\n",
       " 'Sensor-514',\n",
       " 'Sensor-515',\n",
       " 'Sensor-516',\n",
       " 'Sensor-529',\n",
       " 'Sensor-530',\n",
       " 'Sensor-531',\n",
       " 'Sensor-532',\n",
       " 'Sensor-533',\n",
       " 'Sensor-534',\n",
       " 'Sensor-535',\n",
       " 'Sensor-536',\n",
       " 'Sensor-537',\n",
       " 'Sensor-538',\n",
       " 'Sensor-539']"
      ]
     },
     "execution_count": 29,
     "metadata": {},
     "output_type": "execute_result"
    }
   ],
   "source": [
    "cols_drop_1 = get_cols_zero_std(df = df)\n",
    "cols_drop_1"
   ]
  },
  {
   "cell_type": "code",
   "execution_count": 30,
   "id": "0165841d",
   "metadata": {},
   "outputs": [
    {
     "data": {
      "text/plain": [
       "['Sensor-158', 'Sensor-159', 'Sensor-293', 'Sensor-294']"
      ]
     },
     "execution_count": 30,
     "metadata": {},
     "output_type": "execute_result"
    }
   ],
   "source": [
    "cols_drop_2 = get_reduntant_col(df, missing_thresh= .7)\n",
    "cols_drop_2"
   ]
  },
  {
   "cell_type": "code",
   "execution_count": 31,
   "id": "41201a4d",
   "metadata": {},
   "outputs": [
    {
     "data": {
      "text/plain": [
       "127"
      ]
     },
     "execution_count": 31,
     "metadata": {},
     "output_type": "execute_result"
    }
   ],
   "source": [
    "cols_to_drop = cols_drop_1 +cols_drop_2 +['Wafers']\n",
    "len(cols_to_drop)"
   ]
  },
  {
   "cell_type": "code",
   "execution_count": 32,
   "id": "2ca25408",
   "metadata": {},
   "outputs": [],
   "source": [
    "X, y = df.drop(cols_to_drop, axis = 1), df['Good/Bad']"
   ]
  },
  {
   "cell_type": "code",
   "execution_count": 33,
   "id": "6a3f94ce",
   "metadata": {},
   "outputs": [
    {
     "data": {
      "text/plain": [
       "(80, 465)"
      ]
     },
     "execution_count": 33,
     "metadata": {},
     "output_type": "execute_result"
    }
   ],
   "source": [
    "X.shape"
   ]
  },
  {
   "cell_type": "code",
   "execution_count": 34,
   "id": "7f2fd223",
   "metadata": {},
   "outputs": [
    {
     "data": {
      "text/plain": [
       "(80,)"
      ]
     },
     "execution_count": 34,
     "metadata": {},
     "output_type": "execute_result"
    }
   ],
   "source": [
    "y.shape"
   ]
  },
  {
   "cell_type": "code",
   "execution_count": 35,
   "id": "9be1dbbf",
   "metadata": {},
   "outputs": [
    {
     "data": {
      "text/plain": [
       "Good/Bad\n",
       "-1    74\n",
       " 1     6\n",
       "Name: count, dtype: int64"
      ]
     },
     "execution_count": 35,
     "metadata": {},
     "output_type": "execute_result"
    }
   ],
   "source": [
    "y.value_counts()"
   ]
  },
  {
   "cell_type": "code",
   "execution_count": 36,
   "id": "86b127d4",
   "metadata": {},
   "outputs": [],
   "source": [
    "from sklearn.pipeline import Pipeline\n",
    "from sklearn.impute import KNNImputer, SimpleImputer\n",
    "from sklearn.preprocessing import RobustScaler"
   ]
  },
  {
   "cell_type": "code",
   "execution_count": 37,
   "id": "5415d03e",
   "metadata": {},
   "outputs": [
    {
     "data": {
      "text/html": [
       "<style>#sk-container-id-1 {color: black;background-color: white;}#sk-container-id-1 pre{padding: 0;}#sk-container-id-1 div.sk-toggleable {background-color: white;}#sk-container-id-1 label.sk-toggleable__label {cursor: pointer;display: block;width: 100%;margin-bottom: 0;padding: 0.3em;box-sizing: border-box;text-align: center;}#sk-container-id-1 label.sk-toggleable__label-arrow:before {content: \"▸\";float: left;margin-right: 0.25em;color: #696969;}#sk-container-id-1 label.sk-toggleable__label-arrow:hover:before {color: black;}#sk-container-id-1 div.sk-estimator:hover label.sk-toggleable__label-arrow:before {color: black;}#sk-container-id-1 div.sk-toggleable__content {max-height: 0;max-width: 0;overflow: hidden;text-align: left;background-color: #f0f8ff;}#sk-container-id-1 div.sk-toggleable__content pre {margin: 0.2em;color: black;border-radius: 0.25em;background-color: #f0f8ff;}#sk-container-id-1 input.sk-toggleable__control:checked~div.sk-toggleable__content {max-height: 200px;max-width: 100%;overflow: auto;}#sk-container-id-1 input.sk-toggleable__control:checked~label.sk-toggleable__label-arrow:before {content: \"▾\";}#sk-container-id-1 div.sk-estimator input.sk-toggleable__control:checked~label.sk-toggleable__label {background-color: #d4ebff;}#sk-container-id-1 div.sk-label input.sk-toggleable__control:checked~label.sk-toggleable__label {background-color: #d4ebff;}#sk-container-id-1 input.sk-hidden--visually {border: 0;clip: rect(1px 1px 1px 1px);clip: rect(1px, 1px, 1px, 1px);height: 1px;margin: -1px;overflow: hidden;padding: 0;position: absolute;width: 1px;}#sk-container-id-1 div.sk-estimator {font-family: monospace;background-color: #f0f8ff;border: 1px dotted black;border-radius: 0.25em;box-sizing: border-box;margin-bottom: 0.5em;}#sk-container-id-1 div.sk-estimator:hover {background-color: #d4ebff;}#sk-container-id-1 div.sk-parallel-item::after {content: \"\";width: 100%;border-bottom: 1px solid gray;flex-grow: 1;}#sk-container-id-1 div.sk-label:hover label.sk-toggleable__label {background-color: #d4ebff;}#sk-container-id-1 div.sk-serial::before {content: \"\";position: absolute;border-left: 1px solid gray;box-sizing: border-box;top: 0;bottom: 0;left: 50%;z-index: 0;}#sk-container-id-1 div.sk-serial {display: flex;flex-direction: column;align-items: center;background-color: white;padding-right: 0.2em;padding-left: 0.2em;position: relative;}#sk-container-id-1 div.sk-item {position: relative;z-index: 1;}#sk-container-id-1 div.sk-parallel {display: flex;align-items: stretch;justify-content: center;background-color: white;position: relative;}#sk-container-id-1 div.sk-item::before, #sk-container-id-1 div.sk-parallel-item::before {content: \"\";position: absolute;border-left: 1px solid gray;box-sizing: border-box;top: 0;bottom: 0;left: 50%;z-index: -1;}#sk-container-id-1 div.sk-parallel-item {display: flex;flex-direction: column;z-index: 1;position: relative;background-color: white;}#sk-container-id-1 div.sk-parallel-item:first-child::after {align-self: flex-end;width: 50%;}#sk-container-id-1 div.sk-parallel-item:last-child::after {align-self: flex-start;width: 50%;}#sk-container-id-1 div.sk-parallel-item:only-child::after {width: 0;}#sk-container-id-1 div.sk-dashed-wrapped {border: 1px dashed gray;margin: 0 0.4em 0.5em 0.4em;box-sizing: border-box;padding-bottom: 0.4em;background-color: white;}#sk-container-id-1 div.sk-label label {font-family: monospace;font-weight: bold;display: inline-block;line-height: 1.2em;}#sk-container-id-1 div.sk-label-container {text-align: center;}#sk-container-id-1 div.sk-container {/* jupyter's `normalize.less` sets `[hidden] { display: none; }` but bootstrap.min.css set `[hidden] { display: none !important; }` so we also need the `!important` here to be able to override the default hidden behavior on the sphinx rendered scikit-learn.org. See: https://github.com/scikit-learn/scikit-learn/issues/21755 */display: inline-block !important;position: relative;}#sk-container-id-1 div.sk-text-repr-fallback {display: none;}</style><div id=\"sk-container-id-1\" class=\"sk-top-container\"><div class=\"sk-text-repr-fallback\"><pre>Pipeline(steps=[(&#x27;Imputer&#x27;, KNNImputer(n_neighbors=3)),\n",
       "                (&#x27;Scaling&#x27;, RobustScaler())])</pre><b>In a Jupyter environment, please rerun this cell to show the HTML representation or trust the notebook. <br />On GitHub, the HTML representation is unable to render, please try loading this page with nbviewer.org.</b></div><div class=\"sk-container\" hidden><div class=\"sk-item sk-dashed-wrapped\"><div class=\"sk-label-container\"><div class=\"sk-label sk-toggleable\"><input class=\"sk-toggleable__control sk-hidden--visually\" id=\"sk-estimator-id-1\" type=\"checkbox\" ><label for=\"sk-estimator-id-1\" class=\"sk-toggleable__label sk-toggleable__label-arrow\">Pipeline</label><div class=\"sk-toggleable__content\"><pre>Pipeline(steps=[(&#x27;Imputer&#x27;, KNNImputer(n_neighbors=3)),\n",
       "                (&#x27;Scaling&#x27;, RobustScaler())])</pre></div></div></div><div class=\"sk-serial\"><div class=\"sk-item\"><div class=\"sk-estimator sk-toggleable\"><input class=\"sk-toggleable__control sk-hidden--visually\" id=\"sk-estimator-id-2\" type=\"checkbox\" ><label for=\"sk-estimator-id-2\" class=\"sk-toggleable__label sk-toggleable__label-arrow\">KNNImputer</label><div class=\"sk-toggleable__content\"><pre>KNNImputer(n_neighbors=3)</pre></div></div></div><div class=\"sk-item\"><div class=\"sk-estimator sk-toggleable\"><input class=\"sk-toggleable__control sk-hidden--visually\" id=\"sk-estimator-id-3\" type=\"checkbox\" ><label for=\"sk-estimator-id-3\" class=\"sk-toggleable__label sk-toggleable__label-arrow\">RobustScaler</label><div class=\"sk-toggleable__content\"><pre>RobustScaler()</pre></div></div></div></div></div></div></div>"
      ],
      "text/plain": [
       "Pipeline(steps=[('Imputer', KNNImputer(n_neighbors=3)),\n",
       "                ('Scaling', RobustScaler())])"
      ]
     },
     "execution_count": 37,
     "metadata": {},
     "output_type": "execute_result"
    }
   ],
   "source": [
    "imputer = KNNImputer(n_neighbors= 3)\n",
    "prep_process = Pipeline(steps = [('Imputer', imputer), ('Scaling' ,RobustScaler()) ])\n",
    "prep_process"
   ]
  },
  {
   "cell_type": "code",
   "execution_count": 38,
   "id": "4b71703e",
   "metadata": {},
   "outputs": [
    {
     "data": {
      "text/plain": [
       "(80, 465)"
      ]
     },
     "execution_count": 38,
     "metadata": {},
     "output_type": "execute_result"
    }
   ],
   "source": [
    "X_trans = prep_process.fit_transform(X)\n",
    "X_trans.shape"
   ]
  },
  {
   "cell_type": "code",
   "execution_count": 39,
   "id": "960037e9",
   "metadata": {},
   "outputs": [
    {
     "name": "stdout",
     "output_type": "stream",
     "text": [
      "Requirement already satisfied: kneed in c:\\users\\pc\\anaconda4\\lib\\site-packages (0.8.5)Note: you may need to restart the kernel to use updated packages.\n",
      "\n",
      "Requirement already satisfied: numpy>=1.14.2 in c:\\users\\pc\\anaconda4\\lib\\site-packages (from kneed) (1.24.3)\n",
      "Requirement already satisfied: scipy>=1.0.0 in c:\\users\\pc\\anaconda4\\lib\\site-packages (from kneed) (1.11.1)\n"
     ]
    }
   ],
   "source": [
    "%pip install kneed"
   ]
  },
  {
   "cell_type": "code",
   "execution_count": 40,
   "id": "872751ed",
   "metadata": {},
   "outputs": [],
   "source": [
    "from sklearn.cluster import KMeans\n",
    "from kneed import KneeLocator\n",
    "import numpy as np\n",
    "from typing import Tuple"
   ]
  },
  {
   "cell_type": "code",
   "execution_count": 41,
   "id": "3b372235",
   "metadata": {},
   "outputs": [],
   "source": [
    "import os\n",
    "os.environ[\"OMP_NUM_THREADS\"] = '1'"
   ]
  },
  {
   "cell_type": "code",
   "execution_count": 42,
   "id": "2f3c68be",
   "metadata": {},
   "outputs": [],
   "source": [
    "import warnings\n",
    "warnings.filterwarnings('ignore')"
   ]
  },
  {
   "cell_type": "code",
   "execution_count": 43,
   "id": "14bbcef3",
   "metadata": {},
   "outputs": [],
   "source": [
    "def cluster_data_instances(X: np.array) -> Tuple[KMeans, np.array]:\n",
    "    wcss = []  # Within Summation of Squares\n",
    "\n",
    "    for i in range(1, 11):\n",
    "        kmeans = KMeans(n_clusters=i, init='k-means++', random_state=42)\n",
    "        kmeans.fit(X)\n",
    "        wcss.append(kmeans.inertia_)\n",
    "\n",
    "    knee_finder = KneeLocator(\n",
    "        range(1, 11), wcss, curve='convex', direction='decreasing')\n",
    "    ideal_clusters = knee_finder.knee\n",
    "\n",
    "    kmeans = KMeans(n_clusters=ideal_clusters, init='k-means++', random_state=42)\n",
    "    y_kmeans = kmeans.fit_predict(X)\n",
    "\n",
    "    return kmeans, np.c_[X, y_kmeans]\n",
    "\n",
    "# Usage example:\n",
    "kmeans, X_clus = cluster_data_instances(X_trans)"
   ]
  },
  {
   "cell_type": "code",
   "execution_count": 44,
   "id": "bc23cdbb",
   "metadata": {},
   "outputs": [
    {
     "data": {
      "text/html": [
       "<style>#sk-container-id-2 {color: black;background-color: white;}#sk-container-id-2 pre{padding: 0;}#sk-container-id-2 div.sk-toggleable {background-color: white;}#sk-container-id-2 label.sk-toggleable__label {cursor: pointer;display: block;width: 100%;margin-bottom: 0;padding: 0.3em;box-sizing: border-box;text-align: center;}#sk-container-id-2 label.sk-toggleable__label-arrow:before {content: \"▸\";float: left;margin-right: 0.25em;color: #696969;}#sk-container-id-2 label.sk-toggleable__label-arrow:hover:before {color: black;}#sk-container-id-2 div.sk-estimator:hover label.sk-toggleable__label-arrow:before {color: black;}#sk-container-id-2 div.sk-toggleable__content {max-height: 0;max-width: 0;overflow: hidden;text-align: left;background-color: #f0f8ff;}#sk-container-id-2 div.sk-toggleable__content pre {margin: 0.2em;color: black;border-radius: 0.25em;background-color: #f0f8ff;}#sk-container-id-2 input.sk-toggleable__control:checked~div.sk-toggleable__content {max-height: 200px;max-width: 100%;overflow: auto;}#sk-container-id-2 input.sk-toggleable__control:checked~label.sk-toggleable__label-arrow:before {content: \"▾\";}#sk-container-id-2 div.sk-estimator input.sk-toggleable__control:checked~label.sk-toggleable__label {background-color: #d4ebff;}#sk-container-id-2 div.sk-label input.sk-toggleable__control:checked~label.sk-toggleable__label {background-color: #d4ebff;}#sk-container-id-2 input.sk-hidden--visually {border: 0;clip: rect(1px 1px 1px 1px);clip: rect(1px, 1px, 1px, 1px);height: 1px;margin: -1px;overflow: hidden;padding: 0;position: absolute;width: 1px;}#sk-container-id-2 div.sk-estimator {font-family: monospace;background-color: #f0f8ff;border: 1px dotted black;border-radius: 0.25em;box-sizing: border-box;margin-bottom: 0.5em;}#sk-container-id-2 div.sk-estimator:hover {background-color: #d4ebff;}#sk-container-id-2 div.sk-parallel-item::after {content: \"\";width: 100%;border-bottom: 1px solid gray;flex-grow: 1;}#sk-container-id-2 div.sk-label:hover label.sk-toggleable__label {background-color: #d4ebff;}#sk-container-id-2 div.sk-serial::before {content: \"\";position: absolute;border-left: 1px solid gray;box-sizing: border-box;top: 0;bottom: 0;left: 50%;z-index: 0;}#sk-container-id-2 div.sk-serial {display: flex;flex-direction: column;align-items: center;background-color: white;padding-right: 0.2em;padding-left: 0.2em;position: relative;}#sk-container-id-2 div.sk-item {position: relative;z-index: 1;}#sk-container-id-2 div.sk-parallel {display: flex;align-items: stretch;justify-content: center;background-color: white;position: relative;}#sk-container-id-2 div.sk-item::before, #sk-container-id-2 div.sk-parallel-item::before {content: \"\";position: absolute;border-left: 1px solid gray;box-sizing: border-box;top: 0;bottom: 0;left: 50%;z-index: -1;}#sk-container-id-2 div.sk-parallel-item {display: flex;flex-direction: column;z-index: 1;position: relative;background-color: white;}#sk-container-id-2 div.sk-parallel-item:first-child::after {align-self: flex-end;width: 50%;}#sk-container-id-2 div.sk-parallel-item:last-child::after {align-self: flex-start;width: 50%;}#sk-container-id-2 div.sk-parallel-item:only-child::after {width: 0;}#sk-container-id-2 div.sk-dashed-wrapped {border: 1px dashed gray;margin: 0 0.4em 0.5em 0.4em;box-sizing: border-box;padding-bottom: 0.4em;background-color: white;}#sk-container-id-2 div.sk-label label {font-family: monospace;font-weight: bold;display: inline-block;line-height: 1.2em;}#sk-container-id-2 div.sk-label-container {text-align: center;}#sk-container-id-2 div.sk-container {/* jupyter's `normalize.less` sets `[hidden] { display: none; }` but bootstrap.min.css set `[hidden] { display: none !important; }` so we also need the `!important` here to be able to override the default hidden behavior on the sphinx rendered scikit-learn.org. See: https://github.com/scikit-learn/scikit-learn/issues/21755 */display: inline-block !important;position: relative;}#sk-container-id-2 div.sk-text-repr-fallback {display: none;}</style><div id=\"sk-container-id-2\" class=\"sk-top-container\"><div class=\"sk-text-repr-fallback\"><pre>KMeans(n_clusters=3, random_state=42)</pre><b>In a Jupyter environment, please rerun this cell to show the HTML representation or trust the notebook. <br />On GitHub, the HTML representation is unable to render, please try loading this page with nbviewer.org.</b></div><div class=\"sk-container\" hidden><div class=\"sk-item\"><div class=\"sk-estimator sk-toggleable\"><input class=\"sk-toggleable__control sk-hidden--visually\" id=\"sk-estimator-id-4\" type=\"checkbox\" checked><label for=\"sk-estimator-id-4\" class=\"sk-toggleable__label sk-toggleable__label-arrow\">KMeans</label><div class=\"sk-toggleable__content\"><pre>KMeans(n_clusters=3, random_state=42)</pre></div></div></div></div></div>"
      ],
      "text/plain": [
       "KMeans(n_clusters=3, random_state=42)"
      ]
     },
     "execution_count": 44,
     "metadata": {},
     "output_type": "execute_result"
    }
   ],
   "source": [
    "kmeans"
   ]
  },
  {
   "cell_type": "code",
   "execution_count": 45,
   "id": "bfec12b4",
   "metadata": {},
   "outputs": [
    {
     "data": {
      "text/plain": [
       "array([[-0.02781221,  0.37395233, -0.4289214 , ...,  0.75955556,\n",
       "         0.        ,  1.        ],\n",
       "       [ 2.50431022, -1.38644649, -0.47986463, ..., -0.52610857,\n",
       "         0.        ,  1.        ],\n",
       "       [-0.60204699,  0.28110298, -0.49685153, ..., -0.08775867,\n",
       "         0.        ,  1.        ],\n",
       "       ...,\n",
       "       [-0.03223295,  0.21779093,  1.03590393, ..., -0.17805529,\n",
       "         0.        ,  2.        ],\n",
       "       [ 0.03396281,  0.87459106,  0.53517467, ...,  0.28421459,\n",
       "         0.        ,  1.        ],\n",
       "       [ 0.86164048,  0.3813055 , -0.59146288, ..., -0.20782888,\n",
       "         0.        ,  1.        ]])"
      ]
     },
     "execution_count": 45,
     "metadata": {},
     "output_type": "execute_result"
    }
   ],
   "source": [
    "X_clus"
   ]
  },
  {
   "cell_type": "code",
   "execution_count": 46,
   "id": "9db70bf3",
   "metadata": {},
   "outputs": [
    {
     "data": {
      "text/plain": [
       "array([0., 1., 2.])"
      ]
     },
     "execution_count": 46,
     "metadata": {},
     "output_type": "execute_result"
    }
   ],
   "source": [
    "np.unique(X_clus[:,-1])"
   ]
  },
  {
   "cell_type": "code",
   "execution_count": 47,
   "id": "460be186",
   "metadata": {},
   "outputs": [
    {
     "data": {
      "text/plain": [
       "array([[-0.02781221,  0.37395233, -0.4289214 , ...,  0.        ,\n",
       "         1.        , -1.        ],\n",
       "       [ 2.50431022, -1.38644649, -0.47986463, ...,  0.        ,\n",
       "         1.        , -1.        ],\n",
       "       [-0.60204699,  0.28110298, -0.49685153, ...,  0.        ,\n",
       "         1.        , -1.        ],\n",
       "       ...,\n",
       "       [-0.03223295,  0.21779093,  1.03590393, ...,  0.        ,\n",
       "         2.        , -1.        ],\n",
       "       [ 0.03396281,  0.87459106,  0.53517467, ...,  0.        ,\n",
       "         1.        , -1.        ],\n",
       "       [ 0.86164048,  0.3813055 , -0.59146288, ...,  0.        ,\n",
       "         1.        , -1.        ]])"
      ]
     },
     "execution_count": 47,
     "metadata": {},
     "output_type": "execute_result"
    }
   ],
   "source": [
    "wafer_clus = np.c_[X_clus, y]\n",
    "wafer_clus"
   ]
  },
  {
   "cell_type": "code",
   "execution_count": 48,
   "id": "3989f769",
   "metadata": {},
   "outputs": [
    {
     "data": {
      "text/plain": [
       "(1, 467)"
      ]
     },
     "execution_count": 48,
     "metadata": {},
     "output_type": "execute_result"
    }
   ],
   "source": [
    "# Number of example in cluster 0\n",
    "wafer_clus[wafer_clus[:,-2] == 0].shape"
   ]
  },
  {
   "cell_type": "code",
   "execution_count": 49,
   "id": "0b7557ef",
   "metadata": {},
   "outputs": [
    {
     "data": {
      "text/plain": [
       "(62, 467)"
      ]
     },
     "execution_count": 49,
     "metadata": {},
     "output_type": "execute_result"
    }
   ],
   "source": [
    "# Number of example in cluster 1\n",
    "wafer_clus[wafer_clus[:,-2] == 1].shape"
   ]
  },
  {
   "cell_type": "code",
   "execution_count": 50,
   "id": "e4b8b2c7",
   "metadata": {},
   "outputs": [
    {
     "data": {
      "text/plain": [
       "(0, 467)"
      ]
     },
     "execution_count": 50,
     "metadata": {},
     "output_type": "execute_result"
    }
   ],
   "source": [
    "# Number of example in cluster -1\n",
    "wafer_clus[wafer_clus[:,-2] == -1].shape"
   ]
  },
  {
   "cell_type": "code",
   "execution_count": 51,
   "id": "8e280b2e",
   "metadata": {},
   "outputs": [
    {
     "data": {
      "text/plain": [
       "Good/Bad\n",
       "-1    74\n",
       " 1     6\n",
       "Name: count, dtype: int64"
      ]
     },
     "execution_count": 51,
     "metadata": {},
     "output_type": "execute_result"
    }
   ],
   "source": [
    "df['Good/Bad'].value_counts() # This is an imbalanced dataset"
   ]
  },
  {
   "cell_type": "code",
   "execution_count": 52,
   "id": "47bc0347",
   "metadata": {},
   "outputs": [
    {
     "name": "stdout",
     "output_type": "stream",
     "text": [
      "Requirement already satisfied: imbalanced-learn in c:\\users\\pc\\anaconda4\\lib\\site-packages (0.10.1)\n",
      "Requirement already satisfied: numpy>=1.17.3 in c:\\users\\pc\\anaconda4\\lib\\site-packages (from imbalanced-learn) (1.24.3)\n",
      "Requirement already satisfied: scipy>=1.3.2 in c:\\users\\pc\\anaconda4\\lib\\site-packages (from imbalanced-learn) (1.11.1)\n",
      "Requirement already satisfied: scikit-learn>=1.0.2 in c:\\users\\pc\\anaconda4\\lib\\site-packages (from imbalanced-learn) (1.2.2)\n",
      "Requirement already satisfied: joblib>=1.1.1 in c:\\users\\pc\\anaconda4\\lib\\site-packages (from imbalanced-learn) (1.2.0)\n",
      "Requirement already satisfied: threadpoolctl>=2.0.0 in c:\\users\\pc\\anaconda4\\lib\\site-packages (from imbalanced-learn) (2.2.0)\n",
      "Note: you may need to restart the kernel to use updated packages.\n"
     ]
    }
   ],
   "source": [
    "\n",
    " pip install imbalanced-learn"
   ]
  },
  {
   "cell_type": "code",
   "execution_count": 53,
   "id": "458377fa",
   "metadata": {},
   "outputs": [],
   "source": [
    "# Apply SMOTE Technique to handle imbalanced dataset\n",
    "from imblearn.combine import SMOTETomek"
   ]
  },
  {
   "cell_type": "code",
   "execution_count": 54,
   "id": "9113444c",
   "metadata": {},
   "outputs": [],
   "source": [
    "X, y = X_trans[:,:-1], y\n",
    "resampler = SMOTETomek(sampling_strategy= \"auto\")\n",
    "X_res, y_res = resampler.fit_resample(X,y)"
   ]
  },
  {
   "cell_type": "code",
   "execution_count": 55,
   "id": "77669752",
   "metadata": {},
   "outputs": [
    {
     "name": "stdout",
     "output_type": "stream",
     "text": [
      "Before resampling, Shape of training instances:  (80, 465)\n",
      "After resampling, Shape of training instances:  (148, 465)\n"
     ]
    }
   ],
   "source": [
    "print(\"Before resampling, Shape of training instances: \", np.c_[X, y].shape)\n",
    "print(\"After resampling, Shape of training instances: \", np.c_[X_res, y_res].shape)"
   ]
  },
  {
   "cell_type": "code",
   "execution_count": 56,
   "id": "dee862e6",
   "metadata": {},
   "outputs": [
    {
     "name": "stdout",
     "output_type": "stream",
     "text": [
      "[-1  1]\n",
      "Value Counts: \n",
      "-1: 74, 1: 74\n"
     ]
    }
   ],
   "source": [
    "## Target Cats after Resampling\n",
    "\n",
    "print(np.unique(y_res))\n",
    "print(f\"Value Counts: \\n-1: {len(y_res[y_res == -1])}, 1: {len(y_res[y_res == 1])}\")"
   ]
  },
  {
   "cell_type": "code",
   "execution_count": 57,
   "id": "1112bca1",
   "metadata": {},
   "outputs": [
    {
     "name": "stdout",
     "output_type": "stream",
     "text": [
      "train set: ((118, 464), (118,))\n",
      "test set: ((30, 464), (30,))\n"
     ]
    }
   ],
   "source": [
    "from sklearn.model_selection import train_test_split\n",
    "\n",
    "X_train,X_test,y_train,y_test = train_test_split(X_res, y_res,test_size=0.2,random_state=42)\n",
    "print(f\"train set: {X_train.shape, y_train.shape}\")\n",
    "print(f\"test set: {X_test.shape, y_test.shape}\")"
   ]
  },
  {
   "cell_type": "code",
   "execution_count": 58,
   "id": "765d0a8a",
   "metadata": {},
   "outputs": [
    {
     "name": "stdout",
     "output_type": "stream",
     "text": [
      "(118, 464) (118,)\n",
      "(30, 464) (30,)\n"
     ]
    }
   ],
   "source": [
    "X_prep = X_train\n",
    "y_prep = y_train\n",
    "X_test_prep = X_test\n",
    "y_test_prep = y_test\n",
    "\n",
    "print(X_prep.shape, y_prep.shape)\n",
    "print(X_test_prep.shape, y_test_prep.shape)"
   ]
  },
  {
   "cell_type": "code",
   "execution_count": 59,
   "id": "38e532c1",
   "metadata": {},
   "outputs": [],
   "source": [
    "from sklearn.svm import SVC\n",
    "from sklearn.ensemble import RandomForestClassifier\n",
    "from xgboost import XGBClassifier\n",
    "from sklearn.model_selection import cross_val_score\n",
    "from sklearn.model_selection import cross_val_predict\n",
    "from sklearn.metrics import roc_auc_score"
   ]
  },
  {
   "cell_type": "code",
   "execution_count": 60,
   "id": "dff727fb",
   "metadata": {},
   "outputs": [],
   "source": [
    "svc_clf = SVC(kernel='linear')\n",
    "svc_rbf_clf = SVC(kernel='rbf')\n",
    "random_clf = RandomForestClassifier(random_state=42)"
   ]
  },
  {
   "cell_type": "code",
   "execution_count": 61,
   "id": "cb27ab8e",
   "metadata": {},
   "outputs": [],
   "source": [
    "## A function to display Scores\n",
    "\n",
    "def display_scores(scores):\n",
    "    print(\"Scores: \", scores)\n",
    "    print(\"Mean: \", scores.mean())\n",
    "    print(\"Standard Deviation: \", scores.std())"
   ]
  },
  {
   "cell_type": "code",
   "execution_count": 62,
   "id": "bf5b0cb9",
   "metadata": {},
   "outputs": [
    {
     "name": "stdout",
     "output_type": "stream",
     "text": [
      "[CV] END .................................................... total time=   0.0s\n",
      "[CV] END .................................................... total time=   0.0s\n",
      "[CV] END .................................................... total time=   0.0s\n",
      "[CV] END .................................................... total time=   0.0s\n",
      "[CV] END .................................................... total time=   0.0s\n",
      "[CV] END .................................................... total time=   0.0s\n",
      "[CV] END .................................................... total time=   0.0s\n",
      "[CV] END .................................................... total time=   0.0s\n",
      "[CV] END .................................................... total time=   0.0s\n",
      "[CV] END .................................................... total time=   0.0s\n",
      "Scores:  [1. 1. 1. 1. 1. 1. 1. 1. 1. 1.]\n",
      "Mean:  1.0\n",
      "Standard Deviation:  0.0\n"
     ]
    },
    {
     "name": "stderr",
     "output_type": "stream",
     "text": [
      "[Parallel(n_jobs=1)]: Using backend SequentialBackend with 1 concurrent workers.\n",
      "[Parallel(n_jobs=1)]: Done   1 out of   1 | elapsed:    0.0s remaining:    0.0s\n",
      "[Parallel(n_jobs=1)]: Done  10 out of  10 | elapsed:    0.0s finished\n"
     ]
    }
   ],
   "source": [
    "## SVC Scores\n",
    "\n",
    "svc_scores = cross_val_score(svc_clf, X_prep, y_prep, scoring='roc_auc', cv=10, verbose=2)\n",
    "display_scores(svc_scores)"
   ]
  },
  {
   "cell_type": "code",
   "execution_count": 63,
   "id": "b076a6d2",
   "metadata": {},
   "outputs": [
    {
     "data": {
      "text/plain": [
       "0.875"
      ]
     },
     "execution_count": 63,
     "metadata": {},
     "output_type": "execute_result"
    }
   ],
   "source": [
    "## Performance on test set using cross-validation\n",
    "\n",
    "# Predictions using cross-validation\n",
    "svc_preds = cross_val_predict(svc_clf, X_test_prep, y_test_prep, cv=5)\n",
    "\n",
    "# AUC score\n",
    "svc_auc = roc_auc_score(y_test_prep, svc_preds)\n",
    "svc_auc"
   ]
  },
  {
   "cell_type": "code",
   "execution_count": 64,
   "id": "d194c5cd",
   "metadata": {},
   "outputs": [
    {
     "name": "stdout",
     "output_type": "stream",
     "text": [
      "[CV] END .................................................... total time=   0.0s\n",
      "[CV] END .................................................... total time=   0.0s\n",
      "[CV] END .................................................... total time=   0.0s\n",
      "[CV] END .................................................... total time=   0.0s\n",
      "[CV] END .................................................... total time=   0.0s\n",
      "[CV] END .................................................... total time=   0.0s\n",
      "[CV] END .................................................... total time=   0.0s\n",
      "[CV] END .................................................... total time=   0.0s\n",
      "[CV] END .................................................... total time=   0.0s\n",
      "[CV] END .................................................... total time=   0.0s\n",
      "Scores:  [1.         0.97222222 1.         1.         0.86111111 0.77777778\n",
      " 0.88888889 0.83333333 1.         1.        ]\n",
      "Mean:  0.9333333333333333\n",
      "Standard Deviation:  0.0806991058129664\n"
     ]
    },
    {
     "name": "stderr",
     "output_type": "stream",
     "text": [
      "[Parallel(n_jobs=1)]: Using backend SequentialBackend with 1 concurrent workers.\n",
      "[Parallel(n_jobs=1)]: Done   1 out of   1 | elapsed:    0.0s remaining:    0.0s\n",
      "[Parallel(n_jobs=1)]: Done  10 out of  10 | elapsed:    0.0s finished\n"
     ]
    }
   ],
   "source": [
    "## SVC rbf Scores\n",
    "\n",
    "svc_rbf_scores = cross_val_score(svc_rbf_clf, X_prep, y_prep, scoring='roc_auc', cv=10, verbose=2)\n",
    "display_scores(svc_rbf_scores)"
   ]
  },
  {
   "cell_type": "code",
   "execution_count": 65,
   "id": "d97e6d8f",
   "metadata": {},
   "outputs": [
    {
     "data": {
      "text/plain": [
       "0.6875"
      ]
     },
     "execution_count": 65,
     "metadata": {},
     "output_type": "execute_result"
    }
   ],
   "source": [
    "## Performance on test set using cross-validation\n",
    "\n",
    "# Predictions using cross-validation\n",
    "svc_rbf_preds = cross_val_predict(svc_rbf_clf, X_test_prep, y_test_prep, cv=5)\n",
    "\n",
    "# AUC score\n",
    "svc_rbf_auc = roc_auc_score(y_test_prep, svc_rbf_preds)\n",
    "svc_rbf_auc"
   ]
  },
  {
   "cell_type": "code",
   "execution_count": 66,
   "id": "55966de1",
   "metadata": {},
   "outputs": [
    {
     "name": "stderr",
     "output_type": "stream",
     "text": [
      "[Parallel(n_jobs=1)]: Using backend SequentialBackend with 1 concurrent workers.\n"
     ]
    },
    {
     "name": "stdout",
     "output_type": "stream",
     "text": [
      "[CV] END .................................................... total time=   0.2s\n"
     ]
    },
    {
     "name": "stderr",
     "output_type": "stream",
     "text": [
      "[Parallel(n_jobs=1)]: Done   1 out of   1 | elapsed:    0.2s remaining:    0.0s\n"
     ]
    },
    {
     "name": "stdout",
     "output_type": "stream",
     "text": [
      "[CV] END .................................................... total time=   0.1s\n",
      "[CV] END .................................................... total time=   0.1s\n",
      "[CV] END .................................................... total time=   0.1s\n",
      "[CV] END .................................................... total time=   0.2s\n",
      "[CV] END .................................................... total time=   0.1s\n",
      "[CV] END .................................................... total time=   0.1s\n",
      "[CV] END .................................................... total time=   0.1s\n",
      "[CV] END .................................................... total time=   0.1s\n",
      "[CV] END .................................................... total time=   0.1s\n",
      "Scores:  [1. 1. 1. 1. 1. 1. 1. 1. 1. 1.]\n",
      "Mean:  1.0\n",
      "Standard Deviation:  3.510833468576701e-17\n"
     ]
    },
    {
     "name": "stderr",
     "output_type": "stream",
     "text": [
      "[Parallel(n_jobs=1)]: Done  10 out of  10 | elapsed:    2.2s finished\n"
     ]
    }
   ],
   "source": [
    "## Random Forest Scores\n",
    "\n",
    "random_clf_scores = cross_val_score(random_clf, X_prep, y_prep, scoring='roc_auc', cv=10, verbose=2)\n",
    "display_scores(random_clf_scores)"
   ]
  },
  {
   "cell_type": "code",
   "execution_count": 67,
   "id": "67206046",
   "metadata": {},
   "outputs": [
    {
     "data": {
      "text/plain": [
       "1.0"
      ]
     },
     "execution_count": 67,
     "metadata": {},
     "output_type": "execute_result"
    }
   ],
   "source": [
    "## Performance on test set using cross-validation\n",
    "\n",
    "# Predictions using cross-validation\n",
    "random_clf_preds = cross_val_predict(random_clf, X_test_prep, y_test_prep, cv=5)\n",
    "\n",
    "# AUC score\n",
    "random_clf_auc = roc_auc_score(y_test_prep, random_clf_preds)\n",
    "random_clf_auc"
   ]
  },
  {
   "cell_type": "code",
   "execution_count": null,
   "id": "138ac733",
   "metadata": {},
   "outputs": [],
   "source": []
  }
 ],
 "metadata": {
  "kernelspec": {
   "display_name": "Python 3 (ipykernel)",
   "language": "python",
   "name": "python3"
  },
  "language_info": {
   "codemirror_mode": {
    "name": "ipython",
    "version": 3
   },
   "file_extension": ".py",
   "mimetype": "text/x-python",
   "name": "python",
   "nbconvert_exporter": "python",
   "pygments_lexer": "ipython3",
   "version": "3.11.5"
  }
 },
 "nbformat": 4,
 "nbformat_minor": 5
}
